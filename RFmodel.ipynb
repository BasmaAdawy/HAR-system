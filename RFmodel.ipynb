{
  "nbformat": 4,
  "nbformat_minor": 0,
  "metadata": {
    "colab": {
      "provenance": []
    },
    "kernelspec": {
      "name": "python3",
      "display_name": "Python 3"
    },
    "language_info": {
      "name": "python"
    }
  },
  "cells": [
    {
      "cell_type": "code",
      "execution_count": 3,
      "metadata": {
        "colab": {
          "base_uri": "https://localhost:8080/"
        },
        "id": "_wTtKkaSQIk_",
        "outputId": "df6ae571-b277-4815-d8c7-7c1ecf4a6263"
      },
      "outputs": [
        {
          "output_type": "stream",
          "name": "stdout",
          "text": [
            "Requirement already satisfied: pandas in /usr/local/lib/python3.10/dist-packages (2.2.2)\n",
            "Requirement already satisfied: numpy in /usr/local/lib/python3.10/dist-packages (1.26.4)\n",
            "Requirement already satisfied: scikit-learn in /usr/local/lib/python3.10/dist-packages (1.6.0)\n",
            "Requirement already satisfied: scipy in /usr/local/lib/python3.10/dist-packages (1.13.1)\n",
            "Requirement already satisfied: joblib in /usr/local/lib/python3.10/dist-packages (1.4.2)\n",
            "Requirement already satisfied: python-dateutil>=2.8.2 in /usr/local/lib/python3.10/dist-packages (from pandas) (2.8.2)\n",
            "Requirement already satisfied: pytz>=2020.1 in /usr/local/lib/python3.10/dist-packages (from pandas) (2024.2)\n",
            "Requirement already satisfied: tzdata>=2022.7 in /usr/local/lib/python3.10/dist-packages (from pandas) (2024.2)\n",
            "Requirement already satisfied: threadpoolctl>=3.1.0 in /usr/local/lib/python3.10/dist-packages (from scikit-learn) (3.5.0)\n",
            "Requirement already satisfied: six>=1.5 in /usr/local/lib/python3.10/dist-packages (from python-dateutil>=2.8.2->pandas) (1.17.0)\n"
          ]
        }
      ],
      "source": [
        "!pip install pandas numpy scikit-learn scipy joblib"
      ]
    },
    {
      "cell_type": "code",
      "source": [
        "\n",
        "import pandas as pd\n",
        "import numpy as np\n",
        "from sklearn.model_selection import train_test_split\n",
        "from sklearn.ensemble import RandomForestClassifier\n",
        "from sklearn.metrics import classification_report\n",
        "from scipy.stats import skew, kurtosis\n",
        "import joblib\n"
      ],
      "metadata": {
        "id": "WW31Ai2FQRc6"
      },
      "execution_count": 4,
      "outputs": []
    },
    {
      "cell_type": "code",
      "source": [
        "\n",
        "# 1. Load and preprocess data\n",
        "def load_data(file_path):\n",
        "    \"\"\"Load a CSV file and return a pandas DataFrame.\"\"\"\n",
        "    return pd.read_csv(file_path)\n",
        "\n",
        "def preprocess_data(df):\n",
        "    \"\"\"Preprocess the DataFrame by selecting relevant features and handling missing values.\"\"\"\n",
        "    # Select relevant feature columns\n",
        "    feature_cols = [\n",
        "        'acc_X', 'acc_Y', 'acc_Z',\n",
        "        'mag_X', 'mag_Y', 'mag_Z',\n",
        "        'gyro_X', 'gyro_Y', 'gyro_Z'\n",
        "    ]\n",
        "    selected_data = df[feature_cols]\n",
        "\n",
        "    # Handle missing values (e.g., fill with zeros)\n",
        "    selected_data.fillna(0, inplace=True)\n",
        "\n",
        "    # Extract the target label column\n",
        "    labels = df['activity']\n",
        "\n",
        "    return selected_data, labels"
      ],
      "metadata": {
        "id": "WnTIU0YgQYRr"
      },
      "execution_count": 5,
      "outputs": []
    },
    {
      "cell_type": "code",
      "source": [
        "# 2. Feature extraction\n",
        "def extract_features(window):\n",
        "    \"\"\"Extract statistical features from a window of data.\"\"\"\n",
        "    features = {}\n",
        "    for col in window.columns:\n",
        "        features[f'{col}_mean'] = window[col].mean()\n",
        "        features[f'{col}_std'] = window[col].std()\n",
        "        features[f'{col}_min'] = window[col].min()\n",
        "        features[f'{col}_max'] = window[col].max()\n",
        "        features[f'{col}_skew'] = skew(window[col])\n",
        "        features[f'{col}_kurtosis'] = kurtosis(window[col])\n",
        "    return features\n",
        "\n",
        "def create_feature_dataset(data, labels, window_size=50, step_size=25):\n",
        "    \"\"\"Create a dataset of features and corresponding labels from sliding windows.\"\"\"\n",
        "    X, y = [], []\n",
        "    for start in range(0, len(data) - window_size, step_size):\n",
        "        end = start + window_size\n",
        "        window = data.iloc[start:end]\n",
        "        label_window = labels.iloc[start:end]\n",
        "\n",
        "        # Extract features from the window\n",
        "        features = extract_features(window)\n",
        "        X.append(features)\n",
        "\n",
        "        # Assign the most frequent label in the window as the target label\n",
        "        label = label_window.mode().iloc[0]  # Most frequent label\n",
        "        y.append(label)\n",
        "\n",
        "    # Convert to DataFrame and Series\n",
        "    X = pd.DataFrame(X)\n",
        "    y = pd.Series(y)\n",
        "\n",
        "    return X, y"
      ],
      "metadata": {
        "id": "Fle63TqDsFka"
      },
      "execution_count": 6,
      "outputs": []
    },
    {
      "cell_type": "code",
      "source": [
        "# 3. Model training and evaluation\n",
        "def train_model(X, y):\n",
        "    \"\"\"Train a Random Forest classifier and return the trained model.\"\"\"\n",
        "    X_train, X_test, y_train, y_test = train_test_split(X, y, test_size=0.2, random_state=42)\n",
        "\n",
        "    # Initialize and train the model\n",
        "    clf = RandomForestClassifier(n_estimators=100, random_state=42)\n",
        "    clf.fit(X_train, y_train)\n",
        "\n",
        "    # Evaluate the model\n",
        "    y_pred = clf.predict(X_test)\n",
        "    print(\"\\nClassification Report:\\n\")\n",
        "    print(classification_report(y_test, y_pred))\n",
        "\n",
        "    return clf"
      ],
      "metadata": {
        "id": "pte-1C2tsSXx"
      },
      "execution_count": 7,
      "outputs": []
    },
    {
      "cell_type": "code",
      "source": [
        "# 4. Save the model\n",
        "def save_model(model, output_path):\n",
        "    \"\"\"Save the trained model to a file.\"\"\"\n",
        "    joblib.dump(model, output_path)\n",
        "    print(f\"Model saved as '{output_path}'\")"
      ],
      "metadata": {
        "id": "8X2-kzkYsWIR"
      },
      "execution_count": 8,
      "outputs": []
    },
    {
      "cell_type": "code",
      "source": [
        "# Main workflow\n",
        "def main(file_path):\n",
        "    # Load and preprocess data\n",
        "    print(\"Loading data...\")\n",
        "    df = load_data(file_path)\n",
        "    print(\"Data loaded successfully.\")\n",
        "\n",
        "    # Display unique activity labels\n",
        "    unique_activities = df['activity'].unique()\n",
        "    print(\"Unique activity labels:\", unique_activities)\n",
        "\n",
        "    data, labels = preprocess_data(df)\n",
        "    print(\"Data and labels preprocessed successfully.\")\n",
        "\n",
        "    # Extract features and labels\n",
        "    print(\"Extracting features...\")\n",
        "    X, y = create_feature_dataset(data, labels)\n",
        "    print(\"Feature extraction completed.\")\n",
        "\n",
        "    # Train the model\n",
        "    print(\"Training the model...\")\n",
        "    model = train_model(X, y)\n",
        "\n",
        "    # Save the model\n",
        "    save_model(model, 'movement_detection_model.pkl')\n",
        "\n",
        "# Run the main workflow\n",
        "main('/content/consolidated_sensor_data.csv')\n"
      ],
      "metadata": {
        "colab": {
          "base_uri": "https://localhost:8080/"
        },
        "id": "oljE0G-1si3D",
        "outputId": "7d9ab74d-1f0f-4b4e-c33f-79990c0309e2"
      },
      "execution_count": 9,
      "outputs": [
        {
          "output_type": "stream",
          "name": "stdout",
          "text": [
            "Loading data...\n",
            "Data loaded successfully.\n",
            "Unique activity labels: ['downstairs' 'running' 'standing' 'upstairs' 'walking']\n"
          ]
        },
        {
          "output_type": "stream",
          "name": "stderr",
          "text": [
            "<ipython-input-5-7e0426968df4>:17: SettingWithCopyWarning: \n",
            "A value is trying to be set on a copy of a slice from a DataFrame\n",
            "\n",
            "See the caveats in the documentation: https://pandas.pydata.org/pandas-docs/stable/user_guide/indexing.html#returning-a-view-versus-a-copy\n",
            "  selected_data.fillna(0, inplace=True)\n"
          ]
        },
        {
          "output_type": "stream",
          "name": "stdout",
          "text": [
            "Data and labels preprocessed successfully.\n",
            "Extracting features...\n"
          ]
        },
        {
          "output_type": "stream",
          "name": "stderr",
          "text": [
            "<ipython-input-6-2f474135b185>:10: RuntimeWarning: Precision loss occurred in moment calculation due to catastrophic cancellation. This occurs when the data are nearly identical. Results may be unreliable.\n",
            "  features[f'{col}_skew'] = skew(window[col])\n",
            "<ipython-input-6-2f474135b185>:11: RuntimeWarning: Precision loss occurred in moment calculation due to catastrophic cancellation. This occurs when the data are nearly identical. Results may be unreliable.\n",
            "  features[f'{col}_kurtosis'] = kurtosis(window[col])\n"
          ]
        },
        {
          "output_type": "stream",
          "name": "stdout",
          "text": [
            "Feature extraction completed.\n",
            "Training the model...\n",
            "\n",
            "Classification Report:\n",
            "\n",
            "              precision    recall  f1-score   support\n",
            "\n",
            "  downstairs       0.93      0.89      0.91      5015\n",
            "     running       0.99      0.99      0.99      8040\n",
            "    standing       1.00      1.00      1.00     11905\n",
            "    upstairs       0.91      0.93      0.92      5509\n",
            "     walking       0.97      0.98      0.98      7430\n",
            "\n",
            "    accuracy                           0.97     37899\n",
            "   macro avg       0.96      0.96      0.96     37899\n",
            "weighted avg       0.97      0.97      0.97     37899\n",
            "\n",
            "Model saved as 'movement_detection_model.pkl'\n"
          ]
        }
      ]
    },
    {
      "cell_type": "code",
      "source": [],
      "metadata": {
        "id": "jsrOZuxUtpfR"
      },
      "execution_count": null,
      "outputs": []
    }
  ]
}